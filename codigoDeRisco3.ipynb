{
 "cells": [
  {
   "cell_type": "markdown",
   "id": "057c76fb",
   "metadata": {},
   "source": [
    "# Descrição do programa"
   ]
  },
  {
   "cell_type": "markdown",
   "id": "027ea270",
   "metadata": {},
   "source": [
    "## Visão Geral"
   ]
  },
  {
   "cell_type": "markdown",
   "id": "86431935",
   "metadata": {},
   "source": [
    "Este script realiza uma análise de risco para um fundo de investimento composto por ações listadas na B3. Ele automatiza a coleta de dados históricos de preços utilizando a API do Yahoo Finance, abrange um período de cinco anos, e calcula indicadores financeiros e de risco relevantes, como volatilidade, Value at Risk (VaR), Conditional Value at Risk (CVaR), beta via regressão, e índices de Sharpe e Treynor. O código também permite avaliar o risco sob múltiplos níveis de confiança, proporcionando uma visão abrangente da exposição do fundo a diferentes cenários de mercado."
   ]
  },
  {
   "cell_type": "markdown",
   "id": "92048b66",
   "metadata": {},
   "source": [
    "## Autor"
   ]
  },
  {
   "cell_type": "markdown",
   "id": "2838aeaf",
   "metadata": {},
   "source": [
    "João Vitor Figueiredo Villa -[LinkedIn](https://www.linkedin.com/in/jo%C3%A3o-vitor-figueiredo-villa-8323b8323/)"
   ]
  },
  {
   "cell_type": "markdown",
   "id": "e9d5916b",
   "metadata": {},
   "source": [
    "# Instalação e Implementação dos Pacotes"
   ]
  },
  {
   "cell_type": "code",
   "execution_count": 2,
   "id": "af21578a",
   "metadata": {},
   "outputs": [
    {
     "name": "stdout",
     "output_type": "stream",
     "text": [
      "Requirement already satisfied: pandas in c:\\users\\arcad\\anaconda3\\lib\\site-packages (2.2.2)\n",
      "Requirement already satisfied: numpy>=1.26.0 in c:\\users\\arcad\\anaconda3\\lib\\site-packages (from pandas) (1.26.4)\n",
      "Requirement already satisfied: python-dateutil>=2.8.2 in c:\\users\\arcad\\anaconda3\\lib\\site-packages (from pandas) (2.9.0.post0)\n",
      "Requirement already satisfied: pytz>=2020.1 in c:\\users\\arcad\\anaconda3\\lib\\site-packages (from pandas) (2024.1)\n",
      "Requirement already satisfied: tzdata>=2022.7 in c:\\users\\arcad\\anaconda3\\lib\\site-packages (from pandas) (2023.3)\n",
      "Requirement already satisfied: six>=1.5 in c:\\users\\arcad\\anaconda3\\lib\\site-packages (from python-dateutil>=2.8.2->pandas) (1.16.0)\n",
      "Note: you may need to restart the kernel to use updated packages.\n",
      "Requirement already satisfied: numpy in c:\\users\\arcad\\anaconda3\\lib\\site-packages (1.26.4)\n",
      "Note: you may need to restart the kernel to use updated packages.\n",
      "Requirement already satisfied: statsmodels in c:\\users\\arcad\\anaconda3\\lib\\site-packages (0.14.2)\n",
      "Requirement already satisfied: numpy>=1.22.3 in c:\\users\\arcad\\anaconda3\\lib\\site-packages (from statsmodels) (1.26.4)\n",
      "Requirement already satisfied: scipy!=1.9.2,>=1.8 in c:\\users\\arcad\\anaconda3\\lib\\site-packages (from statsmodels) (1.13.1)\n",
      "Requirement already satisfied: pandas!=2.1.0,>=1.4 in c:\\users\\arcad\\anaconda3\\lib\\site-packages (from statsmodels) (2.2.2)\n",
      "Requirement already satisfied: patsy>=0.5.6 in c:\\users\\arcad\\anaconda3\\lib\\site-packages (from statsmodels) (0.5.6)\n",
      "Requirement already satisfied: packaging>=21.3 in c:\\users\\arcad\\anaconda3\\lib\\site-packages (from statsmodels) (24.1)\n",
      "Requirement already satisfied: python-dateutil>=2.8.2 in c:\\users\\arcad\\anaconda3\\lib\\site-packages (from pandas!=2.1.0,>=1.4->statsmodels) (2.9.0.post0)\n",
      "Requirement already satisfied: pytz>=2020.1 in c:\\users\\arcad\\anaconda3\\lib\\site-packages (from pandas!=2.1.0,>=1.4->statsmodels) (2024.1)\n",
      "Requirement already satisfied: tzdata>=2022.7 in c:\\users\\arcad\\anaconda3\\lib\\site-packages (from pandas!=2.1.0,>=1.4->statsmodels) (2023.3)\n",
      "Requirement already satisfied: six in c:\\users\\arcad\\anaconda3\\lib\\site-packages (from patsy>=0.5.6->statsmodels) (1.16.0)\n",
      "Note: you may need to restart the kernel to use updated packages.\n",
      "Requirement already satisfied: yfinance in c:\\users\\arcad\\anaconda3\\lib\\site-packages (0.2.61)\n",
      "Requirement already satisfied: pandas>=1.3.0 in c:\\users\\arcad\\anaconda3\\lib\\site-packages (from yfinance) (2.2.2)\n",
      "Requirement already satisfied: numpy>=1.16.5 in c:\\users\\arcad\\anaconda3\\lib\\site-packages (from yfinance) (1.26.4)\n",
      "Requirement already satisfied: requests>=2.31 in c:\\users\\arcad\\anaconda3\\lib\\site-packages (from yfinance) (2.32.3)\n",
      "Requirement already satisfied: multitasking>=0.0.7 in c:\\users\\arcad\\anaconda3\\lib\\site-packages (from yfinance) (0.0.11)\n",
      "Requirement already satisfied: platformdirs>=2.0.0 in c:\\users\\arcad\\anaconda3\\lib\\site-packages (from yfinance) (3.10.0)\n",
      "Requirement already satisfied: pytz>=2022.5 in c:\\users\\arcad\\anaconda3\\lib\\site-packages (from yfinance) (2024.1)\n",
      "Requirement already satisfied: frozendict>=2.3.4 in c:\\users\\arcad\\anaconda3\\lib\\site-packages (from yfinance) (2.4.2)\n",
      "Requirement already satisfied: peewee>=3.16.2 in c:\\users\\arcad\\anaconda3\\lib\\site-packages (from yfinance) (3.18.1)\n",
      "Requirement already satisfied: beautifulsoup4>=4.11.1 in c:\\users\\arcad\\anaconda3\\lib\\site-packages (from yfinance) (4.12.3)\n",
      "Requirement already satisfied: curl_cffi>=0.7 in c:\\users\\arcad\\anaconda3\\lib\\site-packages (from yfinance) (0.11.1)\n",
      "Requirement already satisfied: protobuf>=3.19.0 in c:\\users\\arcad\\anaconda3\\lib\\site-packages (from yfinance) (4.25.3)\n",
      "Requirement already satisfied: websockets>=13.0 in c:\\users\\arcad\\anaconda3\\lib\\site-packages (from yfinance) (15.0.1)\n",
      "Requirement already satisfied: soupsieve>1.2 in c:\\users\\arcad\\anaconda3\\lib\\site-packages (from beautifulsoup4>=4.11.1->yfinance) (2.5)\n",
      "Requirement already satisfied: cffi>=1.12.0 in c:\\users\\arcad\\anaconda3\\lib\\site-packages (from curl_cffi>=0.7->yfinance) (1.17.1)\n",
      "Requirement already satisfied: certifi>=2024.2.2 in c:\\users\\arcad\\anaconda3\\lib\\site-packages (from curl_cffi>=0.7->yfinance) (2025.1.31)\n",
      "Requirement already satisfied: python-dateutil>=2.8.2 in c:\\users\\arcad\\anaconda3\\lib\\site-packages (from pandas>=1.3.0->yfinance) (2.9.0.post0)\n",
      "Requirement already satisfied: tzdata>=2022.7 in c:\\users\\arcad\\anaconda3\\lib\\site-packages (from pandas>=1.3.0->yfinance) (2023.3)\n",
      "Requirement already satisfied: charset-normalizer<4,>=2 in c:\\users\\arcad\\anaconda3\\lib\\site-packages (from requests>=2.31->yfinance) (3.3.2)\n",
      "Requirement already satisfied: idna<4,>=2.5 in c:\\users\\arcad\\anaconda3\\lib\\site-packages (from requests>=2.31->yfinance) (3.7)\n",
      "Requirement already satisfied: urllib3<3,>=1.21.1 in c:\\users\\arcad\\anaconda3\\lib\\site-packages (from requests>=2.31->yfinance) (2.2.3)\n",
      "Requirement already satisfied: pycparser in c:\\users\\arcad\\anaconda3\\lib\\site-packages (from cffi>=1.12.0->curl_cffi>=0.7->yfinance) (2.21)\n",
      "Requirement already satisfied: six>=1.5 in c:\\users\\arcad\\anaconda3\\lib\\site-packages (from python-dateutil>=2.8.2->pandas>=1.3.0->yfinance) (1.16.0)\n",
      "Note: you may need to restart the kernel to use updated packages.\n",
      "Requirement already satisfied: scipy in c:\\users\\arcad\\anaconda3\\lib\\site-packages (1.13.1)\n",
      "Requirement already satisfied: numpy<2.3,>=1.22.4 in c:\\users\\arcad\\anaconda3\\lib\\site-packages (from scipy) (1.26.4)\n",
      "Note: you may need to restart the kernel to use updated packages.\n",
      "Requirement already satisfied: python-bcb in c:\\users\\arcad\\anaconda3\\lib\\site-packages (0.3.3)\n",
      "Requirement already satisfied: httpx>=0.24.0 in c:\\users\\arcad\\anaconda3\\lib\\site-packages (from python-bcb) (0.27.0)\n",
      "Requirement already satisfied: lxml>=4.9.2 in c:\\users\\arcad\\anaconda3\\lib\\site-packages (from python-bcb) (5.2.1)\n",
      "Requirement already satisfied: pandas>=2.0.0 in c:\\users\\arcad\\anaconda3\\lib\\site-packages (from python-bcb) (2.2.2)\n",
      "Requirement already satisfied: requests>=2.31.0 in c:\\users\\arcad\\anaconda3\\lib\\site-packages (from python-bcb) (2.32.3)\n",
      "Requirement already satisfied: anyio in c:\\users\\arcad\\anaconda3\\lib\\site-packages (from httpx>=0.24.0->python-bcb) (4.2.0)\n",
      "Requirement already satisfied: certifi in c:\\users\\arcad\\anaconda3\\lib\\site-packages (from httpx>=0.24.0->python-bcb) (2025.1.31)\n",
      "Requirement already satisfied: httpcore==1.* in c:\\users\\arcad\\anaconda3\\lib\\site-packages (from httpx>=0.24.0->python-bcb) (1.0.2)\n",
      "Requirement already satisfied: idna in c:\\users\\arcad\\anaconda3\\lib\\site-packages (from httpx>=0.24.0->python-bcb) (3.7)\n",
      "Requirement already satisfied: sniffio in c:\\users\\arcad\\anaconda3\\lib\\site-packages (from httpx>=0.24.0->python-bcb) (1.3.0)\n",
      "Requirement already satisfied: h11<0.15,>=0.13 in c:\\users\\arcad\\anaconda3\\lib\\site-packages (from httpcore==1.*->httpx>=0.24.0->python-bcb) (0.14.0)\n",
      "Requirement already satisfied: numpy>=1.26.0 in c:\\users\\arcad\\anaconda3\\lib\\site-packages (from pandas>=2.0.0->python-bcb) (1.26.4)\n",
      "Requirement already satisfied: python-dateutil>=2.8.2 in c:\\users\\arcad\\anaconda3\\lib\\site-packages (from pandas>=2.0.0->python-bcb) (2.9.0.post0)\n",
      "Requirement already satisfied: pytz>=2020.1 in c:\\users\\arcad\\anaconda3\\lib\\site-packages (from pandas>=2.0.0->python-bcb) (2024.1)\n",
      "Requirement already satisfied: tzdata>=2022.7 in c:\\users\\arcad\\anaconda3\\lib\\site-packages (from pandas>=2.0.0->python-bcb) (2023.3)\n",
      "Requirement already satisfied: charset-normalizer<4,>=2 in c:\\users\\arcad\\anaconda3\\lib\\site-packages (from requests>=2.31.0->python-bcb) (3.3.2)\n",
      "Requirement already satisfied: urllib3<3,>=1.21.1 in c:\\users\\arcad\\anaconda3\\lib\\site-packages (from requests>=2.31.0->python-bcb) (2.2.3)\n",
      "Requirement already satisfied: six>=1.5 in c:\\users\\arcad\\anaconda3\\lib\\site-packages (from python-dateutil>=2.8.2->pandas>=2.0.0->python-bcb) (1.16.0)\n",
      "Note: you may need to restart the kernel to use updated packages.\n",
      "Requirement already satisfied: datetime in c:\\users\\arcad\\anaconda3\\lib\\site-packages (5.5)\n",
      "Requirement already satisfied: zope.interface in c:\\users\\arcad\\anaconda3\\lib\\site-packages (from datetime) (5.4.0)\n",
      "Requirement already satisfied: pytz in c:\\users\\arcad\\anaconda3\\lib\\site-packages (from datetime) (2024.1)\n",
      "Requirement already satisfied: setuptools in c:\\users\\arcad\\anaconda3\\lib\\site-packages (from zope.interface->datetime) (75.1.0)\n",
      "Note: you may need to restart the kernel to use updated packages.\n",
      "Requirement already satisfied: python-dateutil in c:\\users\\arcad\\anaconda3\\lib\\site-packages (2.9.0.post0)\n",
      "Requirement already satisfied: six>=1.5 in c:\\users\\arcad\\anaconda3\\lib\\site-packages (from python-dateutil) (1.16.0)\n",
      "Note: you may need to restart the kernel to use updated packages.\n",
      "Requirement already satisfied: statsmodels in c:\\users\\arcad\\anaconda3\\lib\\site-packages (0.14.2)Note: you may need to restart the kernel to use updated packages.\n",
      "\n",
      "Requirement already satisfied: numpy>=1.22.3 in c:\\users\\arcad\\anaconda3\\lib\\site-packages (from statsmodels) (1.26.4)\n",
      "Requirement already satisfied: scipy!=1.9.2,>=1.8 in c:\\users\\arcad\\anaconda3\\lib\\site-packages (from statsmodels) (1.13.1)\n",
      "Requirement already satisfied: pandas!=2.1.0,>=1.4 in c:\\users\\arcad\\anaconda3\\lib\\site-packages (from statsmodels) (2.2.2)\n",
      "Requirement already satisfied: patsy>=0.5.6 in c:\\users\\arcad\\anaconda3\\lib\\site-packages (from statsmodels) (0.5.6)\n",
      "Requirement already satisfied: packaging>=21.3 in c:\\users\\arcad\\anaconda3\\lib\\site-packages (from statsmodels) (24.1)\n",
      "Requirement already satisfied: python-dateutil>=2.8.2 in c:\\users\\arcad\\anaconda3\\lib\\site-packages (from pandas!=2.1.0,>=1.4->statsmodels) (2.9.0.post0)\n",
      "Requirement already satisfied: pytz>=2020.1 in c:\\users\\arcad\\anaconda3\\lib\\site-packages (from pandas!=2.1.0,>=1.4->statsmodels) (2024.1)\n",
      "Requirement already satisfied: tzdata>=2022.7 in c:\\users\\arcad\\anaconda3\\lib\\site-packages (from pandas!=2.1.0,>=1.4->statsmodels) (2023.3)\n",
      "Requirement already satisfied: six in c:\\users\\arcad\\anaconda3\\lib\\site-packages (from patsy>=0.5.6->statsmodels) (1.16.0)\n"
     ]
    }
   ],
   "source": [
    "%pip install pandas\n",
    "%pip install numpy\n",
    "%pip install statsmodels\n",
    "%pip install yfinance\n",
    "%pip install scipy\n",
    "%pip install python-bcb\n",
    "%pip install datetime\n",
    "%pip install python-dateutil\n",
    "%pip install statsmodels"
   ]
  },
  {
   "cell_type": "code",
   "execution_count": 3,
   "id": "9902f9ae",
   "metadata": {},
   "outputs": [],
   "source": [
    "import pandas as pd\n",
    "import numpy as np\n",
    "import statsmodels\n",
    "from scipy.stats import norm\n",
    "from datetime import datetime\n",
    "from dateutil.relativedelta import relativedelta\n",
    "import statsmodels.api as sm\n",
    "\n",
    "from bcb import sgs\n",
    "import yfinance as yf"
   ]
  },
  {
   "cell_type": "markdown",
   "id": "82403f5f",
   "metadata": {},
   "source": [
    "# Dados Iniciais para análise"
   ]
  },
  {
   "cell_type": "markdown",
   "id": "89d49ec6",
   "metadata": {},
   "source": [
    "Importando arquivo das ações"
   ]
  },
  {
   "cell_type": "code",
   "execution_count": 6,
   "id": "4b3efbf7",
   "metadata": {},
   "outputs": [],
   "source": [
    "#resetar variáveis que serão usadas em loop\n",
    "def resetV():\n",
    "    global i, n, t, j\n",
    "    i = n = t = j = 0\n",
    "    return True\n",
    "\n",
    "# Varíaveis de data que permite, que o código tenha series temporais fluídas e que se atualizam sempre que o código é rodado\n",
    "agora = datetime.now()\n",
    "dateFut = agora - relativedelta(years=5)\n",
    "\n",
    "agora = agora.strftime(\"%Y-%m-%d\")\n",
    "dateFut = dateFut.strftime(\"%Y-%m-%d\")\n",
    "\n",
    "lTickers = [\"PETR4.SA\",\"JBSS3.SA\",\"BBAS3.SA\",\"VIVT3.SA\",\"ITUB4.SA\"]\n",
    "listaAcoes = []\n",
    "resetV()\n",
    "for i in lTickers:\n",
    "    acao = yf.Ticker(i).history(start=dateFut,end=agora)\n",
    "    listaAcoes.append(acao)"
   ]
  },
  {
   "cell_type": "markdown",
   "id": "7650a977",
   "metadata": {},
   "source": [
    "Variáveis Básicas"
   ]
  },
  {
   "cell_type": "code",
   "execution_count": 10,
   "id": "2aa381ff",
   "metadata": {},
   "outputs": [],
   "source": [
    "#retornos logarítmicos diários\n",
    "lRetD = []\n",
    "#variância dos retornos logarítmicos diários\n",
    "lVarc = []\n",
    "resetV()\n",
    "for i in listaAcoes:\n",
    "    close_prices = i['Close']\n",
    "    returns = np.log(close_prices / close_prices.shift(1)).dropna()\n",
    "    \n",
    "    lRetD.append(returns)\n",
    "    lVarc.append(np.var(returns))\n",
    "\n",
    "#z1 é para um nível de confiança de 95% (Primeira análise)\n",
    "a1 = 0.95\n",
    "z1 = norm.ppf(a1)\n",
    "dz1 = norm.pdf(z1)\n",
    "\n",
    "#z2 é para um nível de confiança de 99% (Segunda análise)\n",
    "a2 = 0.99\n",
    "z2 = norm.ppf(a2)\n",
    "dz2 = norm.pdf(z2)\n",
    "\n",
    "valInv = 1000000\n",
    "lPorc = [0.2,0.2,0.20,0.20,0.20]\n",
    "lInv = []\n",
    "for i1 in lPorc:\n",
    "    lInv.append(i1*valInv)"
   ]
  },
  {
   "cell_type": "markdown",
   "id": "1b22d21c",
   "metadata": {},
   "source": [
    "# 1) Análise Individual dos Investimentos"
   ]
  },
  {
   "cell_type": "markdown",
   "id": "deccae15",
   "metadata": {},
   "source": [
    "## Volatilidade"
   ]
  },
  {
   "cell_type": "markdown",
   "id": "432c0765",
   "metadata": {},
   "source": [
    "- Medida de variabilidade dos retornos de um ativo e é relacionado a grandes movimentos de preço, tanto para baixo quanto para cima da média\n",
    "\n",
    "-  quanto maior, mais arriscado é o ativo\n",
    "\n",
    "- Volatilidade é uma medida de risco total de um ativo ou portfólio (específico e sistemático)\n"
   ]
  },
  {
   "cell_type": "code",
   "execution_count": 11,
   "id": "89819fa6",
   "metadata": {},
   "outputs": [
    {
     "name": "stdout",
     "output_type": "stream",
     "text": [
      "Volatilidade dos ativos:\n",
      "PETR4.SA -> 0.0231\n",
      "JBSS3.SA -> 0.0207\n",
      "BBAS3.SA -> 0.0179\n",
      "VIVT3.SA -> 0.0144\n",
      "ITUB4.SA -> 0.0178\n",
      "-=-=-=-=-=-=-=-=-=-=-=-=-=-=-=-=-=-=-=-=\n",
      "Volatilidade do Portfólio: 0.0123\n"
     ]
    }
   ],
   "source": [
    "#quanto menor a volatilidade, menor é a oscilação do ativo\n",
    "lDP = []\n",
    "resetV()\n",
    "for i in lVarc:\n",
    "    dp = np.sqrt(i)\n",
    "    lDP.append(dp)\n",
    "\n",
    "print(\"Volatilidade dos ativos:\")\n",
    "resetV()\n",
    "for n,i in enumerate(lDP):\n",
    "    print(f\"{lTickers[n]} -> {i:.4f}\")\n",
    "print(\"-=\"*20)\n",
    "\n",
    "resetV()\n",
    "acoesRD = pd.concat([pd.Series(i, name=f'{lTickers[n]}') for n, i in enumerate(lRetD)], axis=1)\n",
    "\n",
    "pesos = np.array(lPorc)\n",
    "matrixCov = acoesRD.cov()\n",
    "\n",
    "volPortf = np.sqrt(np.dot(pesos.T, np.dot(matrixCov, pesos)))\n",
    "print(f\"Volatilidade do Portfólio: {volPortf:.4f}\")\n",
    "\n"
   ]
  },
  {
   "cell_type": "markdown",
   "id": "cdf344a5",
   "metadata": {},
   "source": [
    "## Value at Risk (VaR)"
   ]
  },
  {
   "cell_type": "markdown",
   "id": "9a4855b0",
   "metadata": {},
   "source": [
    "- Medida de risco de perda de capital\n",
    "\n",
    "- Mede o quanto algum investimento pode perder, dado um certo nível de probabilidade em um período de tempo específico\n",
    "\n",
    "- a estimar o quanto de recursos devem possuir para cobrir potenciais perdas"
   ]
  },
  {
   "cell_type": "markdown",
   "id": "1572eae2",
   "metadata": {},
   "source": [
    "### Para 95% de nível de confiança"
   ]
  },
  {
   "cell_type": "code",
   "execution_count": 12,
   "id": "f94fe6a0",
   "metadata": {},
   "outputs": [
    {
     "name": "stdout",
     "output_type": "stream",
     "text": [
      "VaR (Para 95% de nível de confiança):\n",
      "Ação 0 -> perda máxima esperada de R$ 7586.65 (Inv inicial = R$ 200000.00)\n",
      "Ação 1 -> perda máxima esperada de R$ 6823.28 (Inv inicial = R$ 200000.00)\n",
      "Ação 2 -> perda máxima esperada de R$ 5903.45 (Inv inicial = R$ 200000.00)\n",
      "Ação 3 -> perda máxima esperada de R$ 4733.22 (Inv inicial = R$ 200000.00)\n",
      "Ação 4 -> perda máxima esperada de R$ 5846.17 (Inv inicial = R$ 200000.00)\n",
      "-=-=-=-=-=-=-=-=-=-=-=-=-=-=-=-=-=-=-=-=\n",
      "Perda máxima do portfólio: R$ 30892.77\n"
     ]
    }
   ],
   "source": [
    "\n",
    "# a perda não ultrapassa o valor do VaR, a perda vai ser em 95% das vezes menor ou igual a esse valor \n",
    "# valor limite de perdas\n",
    "\n",
    "lVaR1 = []\n",
    "resetV()\n",
    "for n,i in enumerate(lDP):\n",
    "    valAtR = z1*i*lInv[n]\n",
    "    lVaR1.append(valAtR)\n",
    "\n",
    "print(\"VaR (Para 95% de nível de confiança):\")\n",
    "resetV()\n",
    "for n,i in enumerate(lVaR1):\n",
    "    print(f\"Ação {n} -> perda máxima esperada de R$ {i:.2f} (Inv inicial = R$ {lInv[n]:.2f})\")\n",
    "print(\"-=\"*20)\n",
    "\n",
    "print(f\"Perda máxima do portfólio: R$ {np.sum(lVaR1):.2f}\")"
   ]
  },
  {
   "cell_type": "markdown",
   "id": "0c46b6b2",
   "metadata": {},
   "source": [
    "### Para 99% de nível de confiança"
   ]
  },
  {
   "cell_type": "code",
   "execution_count": 13,
   "id": "5bac0f92",
   "metadata": {},
   "outputs": [
    {
     "name": "stdout",
     "output_type": "stream",
     "text": [
      "VaR (Para 99% de nível de confiança):\n",
      "Ação 0 -> perda máxima esperada de R$10729.94 (Inv inicial = R$ 200000.00)\n",
      "Ação 1 -> perda máxima esperada de R$9650.30 (Inv inicial = R$ 200000.00)\n",
      "Ação 2 -> perda máxima esperada de R$8349.37 (Inv inicial = R$ 200000.00)\n",
      "Ação 3 -> perda máxima esperada de R$6694.29 (Inv inicial = R$ 200000.00)\n",
      "Ação 4 -> perda máxima esperada de R$8268.35 (Inv inicial = R$ 200000.00)\n",
      "-=-=-=-=-=-=-=-=-=-=-=-=-=-=-=-=-=-=-=-=\n",
      "Perda máxima esperada do portfólio: R$ 43692.24\n"
     ]
    }
   ],
   "source": [
    "# a perda não ultrapassa o valor do VaR, a perda vai ser em 99% das vezes menor ou igual a esse valor (cenário de incerteza)\n",
    "\n",
    "lVaR2 = []\n",
    "resetV()\n",
    "for n,i in enumerate(lDP):\n",
    "    valAtR = z2*i*lInv[n]\n",
    "    lVaR2.append(valAtR)\n",
    "\n",
    "print(\"VaR (Para 99% de nível de confiança):\")\n",
    "resetV()\n",
    "for n,i in enumerate(lVaR2):\n",
    "    print(f\"Ação {n} -> perda máxima esperada de R${i:.2f} (Inv inicial = R$ {lInv[n]:.2f})\")\n",
    "print(\"-=\"*20)\n",
    "\n",
    "print(f\"Perda máxima esperada do portfólio: R$ {np.sum(lVaR2):.2f}\")"
   ]
  },
  {
   "cell_type": "markdown",
   "id": "8e6324bd",
   "metadata": {},
   "source": [
    "## Máximo Drawdown"
   ]
  },
  {
   "cell_type": "markdown",
   "id": "00571a09",
   "metadata": {},
   "source": [
    "- Medida de risco de perda de capital, mas R é apenas uma medida histórica de o quanto de ruína um investimento já apresentou\n",
    "\n",
    "- O MDD é a maior perda ocorrida desde um ponto de alta (pico) até um ponto de mínima em uma série histórica, ou seja, que ocorreu no passado\n",
    "\n",
    "- Usado como métrica para reduzir o risco do portfólio"
   ]
  },
  {
   "cell_type": "code",
   "execution_count": 15,
   "id": "9507569f",
   "metadata": {},
   "outputs": [
    {
     "name": "stdout",
     "output_type": "stream",
     "text": [
      "Máximo Drawdown de cada ativo:\n",
      "PETR4.SA -> -39.10%\n",
      "JBSS3.SA -> -55.78%\n",
      "BBAS3.SA -> -28.91%\n",
      "VIVT3.SA -> -31.32%\n",
      "ITUB4.SA -> -36.17%\n"
     ]
    }
   ],
   "source": [
    "drawdownA = []\n",
    "resetV()\n",
    "for i in listaAcoes:\n",
    "    precos = pd.Series(i['Close'])\n",
    "    pico = precos.cummax()\n",
    "    dd = (precos - pico) / pico\n",
    "    drawdownA.append(dd.min())\n",
    "\n",
    "print(\"Máximo Drawdown de cada ativo:\")\n",
    "resetV()\n",
    "for n,i in enumerate(drawdownA):\n",
    "    print(f\"{lTickers[n]} -> {i:.2%}\")"
   ]
  },
  {
   "cell_type": "markdown",
   "id": "97b190f3",
   "metadata": {},
   "source": [
    "## Conditional Value at Risk (CVaR)"
   ]
  },
  {
   "cell_type": "markdown",
   "id": "24c5b6df",
   "metadata": {},
   "source": [
    "- Valores da cauda de distribuição de perdas em cenários de perda extrema (tende a ser maior do que o VaR)\n",
    "\n",
    "- Mede a média das piores perdas além do VaR"
   ]
  },
  {
   "cell_type": "markdown",
   "id": "d8c82370",
   "metadata": {},
   "source": [
    "### Para 95% de confiança"
   ]
  },
  {
   "cell_type": "code",
   "execution_count": 16,
   "id": "2b74d789",
   "metadata": {},
   "outputs": [
    {
     "name": "stdout",
     "output_type": "stream",
     "text": [
      "CVaR (Para 95% de nível de confiança):\n",
      "PETR4.SA -> pior média de perdas esperada de R$ 15649.10 (VaR = R$ 7586.65)\n",
      "JBSS3.SA -> pior média de perdas esperada de R$ 14074.49 (VaR = R$ 6823.28)\n",
      "BBAS3.SA -> pior média de perdas esperada de R$ 12177.14 (VaR = R$ 5903.45)\n",
      "VIVT3.SA -> pior média de perdas esperada de R$ 9763.30 (VaR = R$ 4733.22)\n",
      "ITUB4.SA -> pior média de perdas esperada de R$ 12058.98 (VaR = R$ 5846.17)\n",
      "-=-=-=-=-=-=-=-=-=-=-=-=-=-=-=-=-=-=-=-=\n",
      "Pior média de perdas do portfólio esperado: R$ 63723.01\n"
     ]
    }
   ],
   "source": [
    "# média das perdas que ocorrem nos 5% piores cenários \n",
    "\n",
    "lCVaR1 = []\n",
    "resetV()\n",
    "for t,i in zip(lVaR1,lDP):\n",
    "    cvar = i + (t*dz1/(1-a1))\n",
    "    lCVaR1.append(cvar)\n",
    "\n",
    "print(\"CVaR (Para 95% de nível de confiança):\")\n",
    "resetV()\n",
    "for n, i in enumerate(lCVaR1):\n",
    "    print(f\"{lTickers[n]} -> pior média de perdas esperada de R$ {i:.2f} (VaR = R$ {lVaR1[n]:.2f})\")\n",
    "print(\"-=\"*20)\n",
    "\n",
    "print(f\"Pior média de perdas do portfólio esperado: R$ {np.sum(lCVaR1):.2f}\")\n",
    "    "
   ]
  },
  {
   "cell_type": "markdown",
   "id": "348dfdc4",
   "metadata": {},
   "source": [
    "### Para 99% de confiança"
   ]
  },
  {
   "cell_type": "code",
   "execution_count": 17,
   "id": "bac1390f",
   "metadata": {},
   "outputs": [
    {
     "name": "stdout",
     "output_type": "stream",
     "text": [
      "VaR (Para 99% de nível de confiança):\n",
      "PETR4.SA -> pior média de perdas de R$ 10730.00 (VaR = R$ 10729.94)\n",
      "JBSS3.SA -> pior média de perdas de R$ 9650.35 (VaR = R$ 9650.30)\n",
      "BBAS3.SA -> pior média de perdas de R$ 8349.41 (VaR = R$ 8349.37)\n",
      "VIVT3.SA -> pior média de perdas de R$ 6694.33 (VaR = R$ 6694.29)\n",
      "ITUB4.SA -> pior média de perdas de R$ 8268.39 (VaR = R$ 8268.35)\n",
      "-=-=-=-=-=-=-=-=-=-=-=-=-=-=-=-=-=-=-=-=\n",
      "Pior média de perdas do portfólio: R$ 43692.49\n"
     ]
    }
   ],
   "source": [
    "# média das perdas que ocorrem nos 1% piores cenários\n",
    "\n",
    "lCVaR2 = []\n",
    "resetV()\n",
    "for i,t in zip(lVaR2,lDP):\n",
    "    cvar = i + (t*dz2/(1-a2))\n",
    "    lCVaR2.append(cvar)\n",
    "\n",
    "print(\"VaR (Para 99% de nível de confiança):\")\n",
    "resetV()\n",
    "for n,i in enumerate(lCVaR2):\n",
    "    print(f\"{lTickers[n]} -> pior média de perdas de R$ {i:.2f} (VaR = R$ {lVaR2[n]:.2f})\")\n",
    "print(\"-=\"*20)\n",
    "\n",
    "print(f\"Pior média de perdas do portfólio: R$ {np.sum(lCVaR2):.2f}\")"
   ]
  },
  {
   "cell_type": "markdown",
   "id": "07372f1d",
   "metadata": {},
   "source": [
    "# 2) Análise Comparativa"
   ]
  },
  {
   "cell_type": "markdown",
   "id": "3d160edc",
   "metadata": {},
   "source": [
    "## Correlação entre os ativos"
   ]
  },
  {
   "cell_type": "markdown",
   "id": "4bec9a74",
   "metadata": {},
   "source": [
    "Caracteristicas\n",
    "* Medida como duas variáveis ou ativos se comportam entre si e do quão forte é a sua associção\n",
    "\n",
    "* É estática no tempo\n"
   ]
  },
  {
   "cell_type": "markdown",
   "id": "7075a2ff",
   "metadata": {},
   "source": [
    "Interpretação do resultado\n",
    "- Quanto mais próximo de zero, mais fraca é a correlação entre os ativos\n",
    "\n",
    "- Quanto mais próximo de 1 ou -1, mais  forte é a correlação entre os ativos"
   ]
  },
  {
   "cell_type": "code",
   "execution_count": 21,
   "id": "8985ed21",
   "metadata": {},
   "outputs": [
    {
     "name": "stdout",
     "output_type": "stream",
     "text": [
      "Correlação entre os investimentos do portfólio:\n",
      "PETR4.SA x JBSS3.SA = 0.126957\n",
      "PETR4.SA x BBAS3.SA = 0.491892\n",
      "PETR4.SA x VIVT3.SA = 0.115232\n",
      "PETR4.SA x ITUB4.SA = 0.388511\n",
      "JBSS3.SA x BBAS3.SA = 0.177483\n",
      "JBSS3.SA x VIVT3.SA = 0.158855\n",
      "JBSS3.SA x ITUB4.SA = 0.165555\n",
      "BBAS3.SA x VIVT3.SA = 0.301951\n",
      "BBAS3.SA x ITUB4.SA = 0.643246\n",
      "VIVT3.SA x ITUB4.SA = 0.304851\n"
     ]
    }
   ],
   "source": [
    "print(\"Correlação entre os investimentos do portfólio:\")\n",
    "resetV()\n",
    "for (i, t), valor in np.ndenumerate(matrixCov):\n",
    "    if i < t:\n",
    "        acaoI = lTickers[i]\n",
    "        acaoT = lTickers[t]\n",
    "        corrIxT = (matrixCov.iloc[i,t])/(lDP[i]*lDP[t])\n",
    "        print(f\"{acaoI} x {acaoT} = {corrIxT:.6f}\")\n",
    "    "
   ]
  },
  {
   "cell_type": "markdown",
   "id": "61384618",
   "metadata": {},
   "source": [
    "## Correlação entre Fundo e Mercado"
   ]
  },
  {
   "cell_type": "markdown",
   "id": "6003ccb5",
   "metadata": {},
   "source": [
    "Um tipo de beta que mede a sensibilidade do fundo ao mercado, normalizando a covariância pelo risco do mercado (variância dos retornos do benchmark)"
   ]
  },
  {
   "cell_type": "code",
   "execution_count": 20,
   "id": "ca8d19d9",
   "metadata": {},
   "outputs": [
    {
     "name": "stdout",
     "output_type": "stream",
     "text": [
      "Covariância entre fundo e mercado: 0.819312\n"
     ]
    }
   ],
   "source": [
    "retornoFundoDia = pd.Series(acoesRD.dot(pesos), index=acoesRD.index)\n",
    "\n",
    "ibov5y = yf.Ticker(\"^BVSP\").history(start=dateFut,end=agora)\n",
    "ibov5y = ibov5y['Close']\n",
    "retIbovDia = np.log(ibov5y / ibov5y.shift(1)).dropna()\n",
    "\n",
    "corrMF = np.corrcoef(retornoFundoDia, retIbovDia)[0,1]\n",
    "print(f\"Covariância entre fundo e mercado: {corrMF:.6f}\")"
   ]
  },
  {
   "cell_type": "markdown",
   "id": "f7658ade",
   "metadata": {},
   "source": [
    "## Indice de Sharpe"
   ]
  },
  {
   "cell_type": "markdown",
   "id": "039f3665",
   "metadata": {},
   "source": [
    "Interpretação do resultado\n",
    "- Sharpe = 0: Retorno abaixo da tx livre de risco (mau desempenho ajustado ao risco)\n",
    "\n",
    "- 0 < Sharpe < 1: Retorno baixo em relação ao risco\n",
    "\n",
    "- 1 < Sharpe < 1.99: Bom (retorno razoável para o rísco assumido)\n",
    "\n",
    "- 2 < Sharpe < 2.99: Muit Bom (portfólio eficiente)\n",
    "\n",
    "- Sharpe > 3: Excelente (alto retorno com risco controlado)"
   ]
  },
  {
   "cell_type": "code",
   "execution_count": null,
   "id": "da21b67f",
   "metadata": {},
   "outputs": [
    {
     "name": "stdout",
     "output_type": "stream",
     "text": [
      "Índice de Sharpe do portfólio: 0.0146\n"
     ]
    }
   ],
   "source": [
    "cdiAnual = sgs.get(1178,last=1)\n",
    "cdiAnual = (cdiAnual.iloc[0,0])/100\n",
    "\n",
    "cdiDia = (1 + cdiAnual)**(1/252) - 1\n",
    "\n",
    "mediaRetDia = np.dot(acoesRD.mean(), pesos)\n",
    "\n",
    "sharpeF =  (mediaRetDia - cdiDia)/ volPortf\n",
    "print(f\"Índice de Sharpe do portfólio: {sharpeF:.4f}\")"
   ]
  },
  {
   "cell_type": "markdown",
   "id": "d8bc9e2b",
   "metadata": {},
   "source": [
    "## Beta e Alpha do fundo"
   ]
  },
  {
   "cell_type": "markdown",
   "id": "50f3d190",
   "metadata": {},
   "source": [
    "O beta é a proporção que o fundo se movimenta com o benckmark (Ibovespa)"
   ]
  },
  {
   "cell_type": "markdown",
   "id": "6a62226d",
   "metadata": {},
   "source": [
    "Interpretação do resultado do alpha\n",
    "- Alpha > 0: portfólio está gerando retorno acima do esperado pelo CAPM\n",
    "\n",
    "- Alpha < 0: portfólio está gerando retorno abaixo do esperado pelo CAPM"
   ]
  },
  {
   "cell_type": "markdown",
   "id": "ceca14ac",
   "metadata": {},
   "source": [
    "Interpretação do resultado do beta\n",
    "- Beta < 0: Inversamente correlacionado (o fundo anda no sentido oposto ao mercado)\n",
    "\n",
    "- Beta = 0: Independente do mercado (o fundo não se movimenta com o mercado)\n",
    "\n",
    "- Beta entre 0 e 1: Menos volátil que o mercado (defensivo, segue o mercado com menos intensidade)\n",
    "\n",
    "- Beta = 1: Neutro ao mercado (o fundo sobe ou cai na mesma proporção do benchmark)\n",
    "\n",
    "- Beta > 1: Mais volátil que o mercado (agressivo, amplifica os movimentos do mercado)"
   ]
  },
  {
   "cell_type": "code",
   "execution_count": null,
   "id": "4e17566e",
   "metadata": {},
   "outputs": [
    {
     "name": "stdout",
     "output_type": "stream",
     "text": [
      "<statsmodels.regression.linear_model.RegressionResultsWrapper object at 0x0000011FD5CA2B10>\n",
      "-=-=-=-=-=-=-=-=-=-=-=-=-=-=-=-=-=-=-=-=\n",
      "Beta: 0.8488\n",
      "Alpha: 0.0004\n"
     ]
    }
   ],
   "source": [
    "medIbovDia = np.mean(retIbovDia)\n",
    "\n",
    "dfAcoesBt = pd.merge(retIbovDia.to_frame('ibov'), \n",
    "                     retornoFundoDia.to_frame('fundo'), \n",
    "                     left_index=True, right_index=True, \n",
    "                     how='inner')\n",
    "dfAcoesBt = dfAcoesBt.dropna()\n",
    "\n",
    "X = sm.add_constant(dfAcoesBt['ibov'])\n",
    "y = dfAcoesBt['fundo']\n",
    "\n",
    "modeloRL = sm.OLS(y, X).fit()\n",
    "print(modeloRL)\n",
    "\n",
    "beta = modeloRL.params['ibov']\n",
    "alpha = modeloRL.params['const']\n",
    "\n",
    "print(\"-=\"*20)\n",
    "print(f\"Beta: {beta:.4f}\")\n",
    "print(f\"Alpha: {alpha:.4f}\")\n",
    "\n"
   ]
  },
  {
   "cell_type": "markdown",
   "id": "da061561",
   "metadata": {},
   "source": [
    "## Indice de Treynor"
   ]
  },
  {
   "cell_type": "markdown",
   "id": "91144a9a",
   "metadata": {},
   "source": [
    "No calculo do Indice de Treynor foi usado o retorno do CDI (atualizado sempre que o código for rodado) como taxa livre de risco"
   ]
  },
  {
   "cell_type": "markdown",
   "id": "08626b71",
   "metadata": {},
   "source": [
    "Interpretação do resultado\n",
    "- Positivo e alto: O fundo está entregando bom retorno ajustado ao risco de mercado (quanto maior, melhor)\n",
    "- Próximo de zero: O fundo não gera retorno além da taxa livre de risco, mesmo assumindo risco de mercado\n",
    "- Negativo: O fundo teve desempenho pior que a taxa livre de risco, mesmo assumindo risco (performance ruim)"
   ]
  },
  {
   "cell_type": "code",
   "execution_count": 32,
   "id": "b8f05f11",
   "metadata": {},
   "outputs": [
    {
     "name": "stdout",
     "output_type": "stream",
     "text": [
      "Índice de Treynor diário: 0.000212\n",
      "Índice de Treynor anual: 0.062599\n"
     ]
    }
   ],
   "source": [
    "treynorD =  (mediaRetDia - cdiDia)/beta\n",
    "print(f\"Índice de Treynor diário: {treynorD:.6f}\")\n",
    "\n",
    "retFundoAn = (1+mediaRetDia)**252 - 1\n",
    "treynorA = (retFundoAn - cdiAnual)/beta\n",
    "print(f\"Índice de Treynor anual: {treynorA:.6f}\")"
   ]
  },
  {
   "cell_type": "markdown",
   "id": "45e5bd14",
   "metadata": {},
   "source": [
    "## Retorno Esperado (CAPM)"
   ]
  },
  {
   "cell_type": "markdown",
   "id": "d8fcc4ec",
   "metadata": {},
   "source": [
    "O ativo livre de risco será o CDI e o benckmark se manterá o Ibovespa"
   ]
  },
  {
   "cell_type": "code",
   "execution_count": 39,
   "id": "2412944f",
   "metadata": {},
   "outputs": [
    {
     "name": "stdout",
     "output_type": "stream",
     "text": [
      "Retorno  minimo esperado do portfólio: 10.74%\n"
     ]
    }
   ],
   "source": [
    "retIbovAn = (1+medIbovDia)**252 - 1\n",
    "\n",
    "capm = cdiAnual + beta*(retIbovAn - cdiAnual)\n",
    "print(f\"Retorno  minimo esperado do portfólio: {capm:.2%}\")"
   ]
  },
  {
   "cell_type": "markdown",
   "id": "73a74479",
   "metadata": {},
   "source": [
    "## Tracking Error"
   ]
  },
  {
   "cell_type": "markdown",
   "id": "f0fed1dc",
   "metadata": {},
   "source": [
    "Caracteristicas\n",
    "- desvio padrão entre os retornos diferenciais entre o fundo e o benchmark (Ibovespa)\n",
    "\n",
    "- mede a consistência do fundo em seguir o benchmark\n",
    "\n",
    "- quanto menor, mais o fundo se comporta como o benchmark (caso de fundos passivos) e quanto maior, mais o fundo se descola do benchmark (típico de fundos ativos)"
   ]
  },
  {
   "cell_type": "markdown",
   "id": "17fc381c",
   "metadata": {},
   "source": [
    "Interpreteação do resultado anualizado\n",
    "\n",
    "- 0% < TE < 2%: muito baixo - fundo passivo, segue de perto o índice\n",
    "\n",
    "- 2% < TE < 4%: moderado - fundo ativo com alguma liberdade\n",
    "\n",
    "- 4% < TE < 7%: alto - fundo ativo com forte autonomia\n",
    "\n",
    "- TE > 7%: muito alto - fundo com estratégias muito diferentes do benchmark"
   ]
  },
  {
   "cell_type": "code",
   "execution_count": 22,
   "id": "9c74d5f5",
   "metadata": {},
   "outputs": [
    {
     "name": "stdout",
     "output_type": "stream",
     "text": [
      "Tracking Error diário: 0.7296%\n",
      "Tracking Error anualizado: 11.5824%\n"
     ]
    }
   ],
   "source": [
    "trackingErD = np.std(retornoFundoDia - retIbovDia, ddof=1)\n",
    "trackingErA = trackingErD * np.sqrt(252)\n",
    "\n",
    "print(f\"Tracking Error diário: {trackingErD:.4%}\")\n",
    "print(f\"Tracking Error anualizado: {trackingErA:.4%}\")"
   ]
  }
 ],
 "metadata": {
  "kernelspec": {
   "display_name": "base",
   "language": "python",
   "name": "python3"
  },
  "language_info": {
   "codemirror_mode": {
    "name": "ipython",
    "version": 3
   },
   "file_extension": ".py",
   "mimetype": "text/x-python",
   "name": "python",
   "nbconvert_exporter": "python",
   "pygments_lexer": "ipython3",
   "version": "3.12.7"
  }
 },
 "nbformat": 4,
 "nbformat_minor": 5
}
