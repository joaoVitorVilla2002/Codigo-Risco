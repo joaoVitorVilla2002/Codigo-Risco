{
 "cells": [
  {
   "cell_type": "markdown",
   "id": "057c76fb",
   "metadata": {},
   "source": [
    "# Descrição do programa"
   ]
  },
  {
   "cell_type": "markdown",
   "id": "027ea270",
   "metadata": {},
   "source": [
    "## Visão Geral"
   ]
  },
  {
   "cell_type": "markdown",
   "id": "86431935",
   "metadata": {},
   "source": [
    "Este script realiza uma análise de risco para um fundo de investimento composto por ações listadas na B3. Ele automatiza a coleta de dados históricos de preços utilizando a API do Yahoo Finance, abrange um período de cinco anos, e calcula indicadores financeiros e de risco relevantes, como volatilidade, Value at Risk (VaR), Conditional Value at Risk (CVaR), beta via regressão, e índices de Sharpe e Treynor. O código também permite avaliar o risco sob múltiplos níveis de confiança, proporcionando uma visão abrangente da exposição do fundo a diferentes cenários de mercado."
   ]
  },
  {
   "cell_type": "markdown",
   "id": "92048b66",
   "metadata": {},
   "source": [
    "## Autor"
   ]
  },
  {
   "cell_type": "markdown",
   "id": "2838aeaf",
   "metadata": {},
   "source": [
    "João Vitor Figueiredo Villa -[LinkedIn](https://www.linkedin.com/in/jo%C3%A3o-vitor-figueiredo-villa-8323b8323/)"
   ]
  },
  {
   "cell_type": "markdown",
   "id": "e9d5916b",
   "metadata": {},
   "source": [
    "# Instalação e Implementação dos Pacotes"
   ]
  },
  {
   "cell_type": "code",
   "execution_count": 79,
   "id": "af21578a",
   "metadata": {},
   "outputs": [
    {
     "name": "stdout",
     "output_type": "stream",
     "text": [
      "Requirement already satisfied: pandas in c:\\users\\arcad\\appdata\\local\\programs\\python\\python313\\lib\\site-packages (2.2.3)\n",
      "Requirement already satisfied: numpy>=1.26.0 in c:\\users\\arcad\\appdata\\local\\programs\\python\\python313\\lib\\site-packages (from pandas) (2.2.6)\n",
      "Requirement already satisfied: python-dateutil>=2.8.2 in c:\\users\\arcad\\appdata\\roaming\\python\\python313\\site-packages (from pandas) (2.9.0.post0)\n",
      "Requirement already satisfied: pytz>=2020.1 in c:\\users\\arcad\\appdata\\local\\programs\\python\\python313\\lib\\site-packages (from pandas) (2025.2)\n",
      "Requirement already satisfied: tzdata>=2022.7 in c:\\users\\arcad\\appdata\\local\\programs\\python\\python313\\lib\\site-packages (from pandas) (2025.2)\n",
      "Requirement already satisfied: six>=1.5 in c:\\users\\arcad\\appdata\\roaming\\python\\python313\\site-packages (from python-dateutil>=2.8.2->pandas) (1.17.0)\n",
      "Note: you may need to restart the kernel to use updated packages.\n"
     ]
    },
    {
     "name": "stderr",
     "output_type": "stream",
     "text": [
      "\n",
      "[notice] A new release of pip is available: 25.0.1 -> 25.1.1\n",
      "[notice] To update, run: python.exe -m pip install --upgrade pip\n"
     ]
    },
    {
     "name": "stdout",
     "output_type": "stream",
     "text": [
      "Requirement already satisfied: numpy in c:\\users\\arcad\\appdata\\local\\programs\\python\\python313\\lib\\site-packages (2.2.6)\n",
      "Note: you may need to restart the kernel to use updated packages.\n"
     ]
    },
    {
     "name": "stderr",
     "output_type": "stream",
     "text": [
      "\n",
      "[notice] A new release of pip is available: 25.0.1 -> 25.1.1\n",
      "[notice] To update, run: python.exe -m pip install --upgrade pip\n"
     ]
    },
    {
     "name": "stdout",
     "output_type": "stream",
     "text": [
      "Requirement already satisfied: statsmodels in c:\\users\\arcad\\appdata\\local\\programs\\python\\python313\\lib\\site-packages (0.14.4)\n",
      "Requirement already satisfied: numpy<3,>=1.22.3 in c:\\users\\arcad\\appdata\\local\\programs\\python\\python313\\lib\\site-packages (from statsmodels) (2.2.6)\n",
      "Requirement already satisfied: scipy!=1.9.2,>=1.8 in c:\\users\\arcad\\appdata\\local\\programs\\python\\python313\\lib\\site-packages (from statsmodels) (1.15.3)\n",
      "Requirement already satisfied: pandas!=2.1.0,>=1.4 in c:\\users\\arcad\\appdata\\local\\programs\\python\\python313\\lib\\site-packages (from statsmodels) (2.2.3)\n",
      "Requirement already satisfied: patsy>=0.5.6 in c:\\users\\arcad\\appdata\\local\\programs\\python\\python313\\lib\\site-packages (from statsmodels) (1.0.1)\n",
      "Requirement already satisfied: packaging>=21.3 in c:\\users\\arcad\\appdata\\roaming\\python\\python313\\site-packages (from statsmodels) (25.0)\n",
      "Requirement already satisfied: python-dateutil>=2.8.2 in c:\\users\\arcad\\appdata\\roaming\\python\\python313\\site-packages (from pandas!=2.1.0,>=1.4->statsmodels) (2.9.0.post0)\n",
      "Requirement already satisfied: pytz>=2020.1 in c:\\users\\arcad\\appdata\\local\\programs\\python\\python313\\lib\\site-packages (from pandas!=2.1.0,>=1.4->statsmodels) (2025.2)\n",
      "Requirement already satisfied: tzdata>=2022.7 in c:\\users\\arcad\\appdata\\local\\programs\\python\\python313\\lib\\site-packages (from pandas!=2.1.0,>=1.4->statsmodels) (2025.2)\n",
      "Requirement already satisfied: six>=1.5 in c:\\users\\arcad\\appdata\\roaming\\python\\python313\\site-packages (from python-dateutil>=2.8.2->pandas!=2.1.0,>=1.4->statsmodels) (1.17.0)\n",
      "Note: you may need to restart the kernel to use updated packages.\n"
     ]
    },
    {
     "name": "stderr",
     "output_type": "stream",
     "text": [
      "\n",
      "[notice] A new release of pip is available: 25.0.1 -> 25.1.1\n",
      "[notice] To update, run: python.exe -m pip install --upgrade pip\n"
     ]
    },
    {
     "name": "stdout",
     "output_type": "stream",
     "text": [
      "Requirement already satisfied: yfinance in c:\\users\\arcad\\appdata\\local\\programs\\python\\python313\\lib\\site-packages (0.2.61)\n",
      "Requirement already satisfied: pandas>=1.3.0 in c:\\users\\arcad\\appdata\\local\\programs\\python\\python313\\lib\\site-packages (from yfinance) (2.2.3)\n",
      "Requirement already satisfied: numpy>=1.16.5 in c:\\users\\arcad\\appdata\\local\\programs\\python\\python313\\lib\\site-packages (from yfinance) (2.2.6)\n",
      "Requirement already satisfied: requests>=2.31 in c:\\users\\arcad\\appdata\\local\\programs\\python\\python313\\lib\\site-packages (from yfinance) (2.32.3)\n",
      "Requirement already satisfied: multitasking>=0.0.7 in c:\\users\\arcad\\appdata\\local\\programs\\python\\python313\\lib\\site-packages (from yfinance) (0.0.11)\n",
      "Requirement already satisfied: platformdirs>=2.0.0 in c:\\users\\arcad\\appdata\\roaming\\python\\python313\\site-packages (from yfinance) (4.3.8)\n",
      "Requirement already satisfied: pytz>=2022.5 in c:\\users\\arcad\\appdata\\local\\programs\\python\\python313\\lib\\site-packages (from yfinance) (2025.2)\n",
      "Requirement already satisfied: frozendict>=2.3.4 in c:\\users\\arcad\\appdata\\local\\programs\\python\\python313\\lib\\site-packages (from yfinance) (2.4.6)\n",
      "Requirement already satisfied: peewee>=3.16.2 in c:\\users\\arcad\\appdata\\local\\programs\\python\\python313\\lib\\site-packages (from yfinance) (3.18.1)\n",
      "Requirement already satisfied: beautifulsoup4>=4.11.1 in c:\\users\\arcad\\appdata\\local\\programs\\python\\python313\\lib\\site-packages (from yfinance) (4.13.4)\n",
      "Requirement already satisfied: curl_cffi>=0.7 in c:\\users\\arcad\\appdata\\local\\programs\\python\\python313\\lib\\site-packages (from yfinance) (0.11.1)\n",
      "Requirement already satisfied: protobuf>=3.19.0 in c:\\users\\arcad\\appdata\\local\\programs\\python\\python313\\lib\\site-packages (from yfinance) (6.31.0)\n",
      "Requirement already satisfied: websockets>=13.0 in c:\\users\\arcad\\appdata\\local\\programs\\python\\python313\\lib\\site-packages (from yfinance) (15.0.1)\n",
      "Requirement already satisfied: soupsieve>1.2 in c:\\users\\arcad\\appdata\\local\\programs\\python\\python313\\lib\\site-packages (from beautifulsoup4>=4.11.1->yfinance) (2.7)\n",
      "Requirement already satisfied: typing-extensions>=4.0.0 in c:\\users\\arcad\\appdata\\local\\programs\\python\\python313\\lib\\site-packages (from beautifulsoup4>=4.11.1->yfinance) (4.13.2)\n",
      "Requirement already satisfied: cffi>=1.12.0 in c:\\users\\arcad\\appdata\\local\\programs\\python\\python313\\lib\\site-packages (from curl_cffi>=0.7->yfinance) (1.17.1)\n",
      "Requirement already satisfied: certifi>=2024.2.2 in c:\\users\\arcad\\appdata\\local\\programs\\python\\python313\\lib\\site-packages (from curl_cffi>=0.7->yfinance) (2025.4.26)\n",
      "Requirement already satisfied: python-dateutil>=2.8.2 in c:\\users\\arcad\\appdata\\roaming\\python\\python313\\site-packages (from pandas>=1.3.0->yfinance) (2.9.0.post0)\n",
      "Requirement already satisfied: tzdata>=2022.7 in c:\\users\\arcad\\appdata\\local\\programs\\python\\python313\\lib\\site-packages (from pandas>=1.3.0->yfinance) (2025.2)\n",
      "Requirement already satisfied: charset-normalizer<4,>=2 in c:\\users\\arcad\\appdata\\local\\programs\\python\\python313\\lib\\site-packages (from requests>=2.31->yfinance) (3.4.2)\n",
      "Requirement already satisfied: idna<4,>=2.5 in c:\\users\\arcad\\appdata\\local\\programs\\python\\python313\\lib\\site-packages (from requests>=2.31->yfinance) (3.10)\n",
      "Requirement already satisfied: urllib3<3,>=1.21.1 in c:\\users\\arcad\\appdata\\local\\programs\\python\\python313\\lib\\site-packages (from requests>=2.31->yfinance) (2.4.0)\n",
      "Requirement already satisfied: pycparser in c:\\users\\arcad\\appdata\\local\\programs\\python\\python313\\lib\\site-packages (from cffi>=1.12.0->curl_cffi>=0.7->yfinance) (2.22)\n",
      "Requirement already satisfied: six>=1.5 in c:\\users\\arcad\\appdata\\roaming\\python\\python313\\site-packages (from python-dateutil>=2.8.2->pandas>=1.3.0->yfinance) (1.17.0)\n",
      "Note: you may need to restart the kernel to use updated packages.\n"
     ]
    },
    {
     "name": "stderr",
     "output_type": "stream",
     "text": [
      "\n",
      "[notice] A new release of pip is available: 25.0.1 -> 25.1.1\n",
      "[notice] To update, run: python.exe -m pip install --upgrade pip\n"
     ]
    },
    {
     "name": "stdout",
     "output_type": "stream",
     "text": [
      "Requirement already satisfied: scipy in c:\\users\\arcad\\appdata\\local\\programs\\python\\python313\\lib\\site-packages (1.15.3)\n",
      "Requirement already satisfied: numpy<2.5,>=1.23.5 in c:\\users\\arcad\\appdata\\local\\programs\\python\\python313\\lib\\site-packages (from scipy) (2.2.6)\n",
      "Note: you may need to restart the kernel to use updated packages.\n"
     ]
    },
    {
     "name": "stderr",
     "output_type": "stream",
     "text": [
      "\n",
      "[notice] A new release of pip is available: 25.0.1 -> 25.1.1\n",
      "[notice] To update, run: python.exe -m pip install --upgrade pip\n"
     ]
    },
    {
     "name": "stdout",
     "output_type": "stream",
     "text": [
      "Requirement already satisfied: python-bcb in c:\\users\\arcad\\appdata\\local\\programs\\python\\python313\\lib\\site-packages (0.3.3)\n",
      "Requirement already satisfied: httpx>=0.24.0 in c:\\users\\arcad\\appdata\\local\\programs\\python\\python313\\lib\\site-packages (from python-bcb) (0.28.1)\n",
      "Requirement already satisfied: lxml>=4.9.2 in c:\\users\\arcad\\appdata\\local\\programs\\python\\python313\\lib\\site-packages (from python-bcb) (5.4.0)\n",
      "Requirement already satisfied: pandas>=2.0.0 in c:\\users\\arcad\\appdata\\local\\programs\\python\\python313\\lib\\site-packages (from python-bcb) (2.2.3)\n",
      "Requirement already satisfied: requests>=2.31.0 in c:\\users\\arcad\\appdata\\local\\programs\\python\\python313\\lib\\site-packages (from python-bcb) (2.32.3)\n",
      "Requirement already satisfied: anyio in c:\\users\\arcad\\appdata\\local\\programs\\python\\python313\\lib\\site-packages (from httpx>=0.24.0->python-bcb) (4.9.0)\n",
      "Requirement already satisfied: certifi in c:\\users\\arcad\\appdata\\local\\programs\\python\\python313\\lib\\site-packages (from httpx>=0.24.0->python-bcb) (2025.4.26)\n",
      "Requirement already satisfied: httpcore==1.* in c:\\users\\arcad\\appdata\\local\\programs\\python\\python313\\lib\\site-packages (from httpx>=0.24.0->python-bcb) (1.0.9)\n",
      "Requirement already satisfied: idna in c:\\users\\arcad\\appdata\\local\\programs\\python\\python313\\lib\\site-packages (from httpx>=0.24.0->python-bcb) (3.10)\n",
      "Requirement already satisfied: h11>=0.16 in c:\\users\\arcad\\appdata\\local\\programs\\python\\python313\\lib\\site-packages (from httpcore==1.*->httpx>=0.24.0->python-bcb) (0.16.0)\n",
      "Requirement already satisfied: numpy>=1.26.0 in c:\\users\\arcad\\appdata\\local\\programs\\python\\python313\\lib\\site-packages (from pandas>=2.0.0->python-bcb) (2.2.6)\n",
      "Requirement already satisfied: python-dateutil>=2.8.2 in c:\\users\\arcad\\appdata\\roaming\\python\\python313\\site-packages (from pandas>=2.0.0->python-bcb) (2.9.0.post0)\n",
      "Requirement already satisfied: pytz>=2020.1 in c:\\users\\arcad\\appdata\\local\\programs\\python\\python313\\lib\\site-packages (from pandas>=2.0.0->python-bcb) (2025.2)\n",
      "Requirement already satisfied: tzdata>=2022.7 in c:\\users\\arcad\\appdata\\local\\programs\\python\\python313\\lib\\site-packages (from pandas>=2.0.0->python-bcb) (2025.2)\n",
      "Requirement already satisfied: charset-normalizer<4,>=2 in c:\\users\\arcad\\appdata\\local\\programs\\python\\python313\\lib\\site-packages (from requests>=2.31.0->python-bcb) (3.4.2)\n",
      "Requirement already satisfied: urllib3<3,>=1.21.1 in c:\\users\\arcad\\appdata\\local\\programs\\python\\python313\\lib\\site-packages (from requests>=2.31.0->python-bcb) (2.4.0)\n",
      "Requirement already satisfied: six>=1.5 in c:\\users\\arcad\\appdata\\roaming\\python\\python313\\site-packages (from python-dateutil>=2.8.2->pandas>=2.0.0->python-bcb) (1.17.0)\n",
      "Requirement already satisfied: sniffio>=1.1 in c:\\users\\arcad\\appdata\\local\\programs\\python\\python313\\lib\\site-packages (from anyio->httpx>=0.24.0->python-bcb) (1.3.1)\n",
      "Note: you may need to restart the kernel to use updated packages.\n"
     ]
    },
    {
     "name": "stderr",
     "output_type": "stream",
     "text": [
      "\n",
      "[notice] A new release of pip is available: 25.0.1 -> 25.1.1\n",
      "[notice] To update, run: python.exe -m pip install --upgrade pip\n"
     ]
    },
    {
     "name": "stdout",
     "output_type": "stream",
     "text": [
      "Requirement already satisfied: datetime in c:\\users\\arcad\\appdata\\local\\programs\\python\\python313\\lib\\site-packages (5.5)\n",
      "Requirement already satisfied: zope.interface in c:\\users\\arcad\\appdata\\local\\programs\\python\\python313\\lib\\site-packages (from datetime) (7.2)\n",
      "Requirement already satisfied: pytz in c:\\users\\arcad\\appdata\\local\\programs\\python\\python313\\lib\\site-packages (from datetime) (2025.2)\n",
      "Requirement already satisfied: setuptools in c:\\users\\arcad\\appdata\\local\\programs\\python\\python313\\lib\\site-packages (from zope.interface->datetime) (80.8.0)\n",
      "Note: you may need to restart the kernel to use updated packages.\n"
     ]
    },
    {
     "name": "stderr",
     "output_type": "stream",
     "text": [
      "\n",
      "[notice] A new release of pip is available: 25.0.1 -> 25.1.1\n",
      "[notice] To update, run: python.exe -m pip install --upgrade pip\n"
     ]
    },
    {
     "name": "stdout",
     "output_type": "stream",
     "text": [
      "Requirement already satisfied: python-dateutil in c:\\users\\arcad\\appdata\\roaming\\python\\python313\\site-packages (2.9.0.post0)\n",
      "Requirement already satisfied: six>=1.5 in c:\\users\\arcad\\appdata\\roaming\\python\\python313\\site-packages (from python-dateutil) (1.17.0)\n",
      "Note: you may need to restart the kernel to use updated packages.\n"
     ]
    },
    {
     "name": "stderr",
     "output_type": "stream",
     "text": [
      "\n",
      "[notice] A new release of pip is available: 25.0.1 -> 25.1.1\n",
      "[notice] To update, run: python.exe -m pip install --upgrade pip\n"
     ]
    },
    {
     "name": "stdout",
     "output_type": "stream",
     "text": [
      "Requirement already satisfied: statsmodels in c:\\users\\arcad\\appdata\\local\\programs\\python\\python313\\lib\\site-packages (0.14.4)\n",
      "Requirement already satisfied: numpy<3,>=1.22.3 in c:\\users\\arcad\\appdata\\local\\programs\\python\\python313\\lib\\site-packages (from statsmodels) (2.2.6)\n",
      "Requirement already satisfied: scipy!=1.9.2,>=1.8 in c:\\users\\arcad\\appdata\\local\\programs\\python\\python313\\lib\\site-packages (from statsmodels) (1.15.3)\n",
      "Requirement already satisfied: pandas!=2.1.0,>=1.4 in c:\\users\\arcad\\appdata\\local\\programs\\python\\python313\\lib\\site-packages (from statsmodels) (2.2.3)\n",
      "Requirement already satisfied: patsy>=0.5.6 in c:\\users\\arcad\\appdata\\local\\programs\\python\\python313\\lib\\site-packages (from statsmodels) (1.0.1)\n",
      "Requirement already satisfied: packaging>=21.3 in c:\\users\\arcad\\appdata\\roaming\\python\\python313\\site-packages (from statsmodels) (25.0)\n",
      "Requirement already satisfied: python-dateutil>=2.8.2 in c:\\users\\arcad\\appdata\\roaming\\python\\python313\\site-packages (from pandas!=2.1.0,>=1.4->statsmodels) (2.9.0.post0)\n",
      "Requirement already satisfied: pytz>=2020.1 in c:\\users\\arcad\\appdata\\local\\programs\\python\\python313\\lib\\site-packages (from pandas!=2.1.0,>=1.4->statsmodels) (2025.2)\n",
      "Requirement already satisfied: tzdata>=2022.7 in c:\\users\\arcad\\appdata\\local\\programs\\python\\python313\\lib\\site-packages (from pandas!=2.1.0,>=1.4->statsmodels) (2025.2)\n",
      "Requirement already satisfied: six>=1.5 in c:\\users\\arcad\\appdata\\roaming\\python\\python313\\site-packages (from python-dateutil>=2.8.2->pandas!=2.1.0,>=1.4->statsmodels) (1.17.0)\n",
      "Note: you may need to restart the kernel to use updated packages.\n"
     ]
    },
    {
     "name": "stderr",
     "output_type": "stream",
     "text": [
      "\n",
      "[notice] A new release of pip is available: 25.0.1 -> 25.1.1\n",
      "[notice] To update, run: python.exe -m pip install --upgrade pip\n"
     ]
    }
   ],
   "source": [
    "%pip install pandas\n",
    "%pip install numpy\n",
    "%pip install statsmodels\n",
    "%pip install yfinance\n",
    "%pip install scipy\n",
    "%pip install python-bcb\n",
    "%pip install datetime\n",
    "%pip install python-dateutil\n",
    "%pip install statsmodels"
   ]
  },
  {
   "cell_type": "code",
   "execution_count": 1,
   "id": "9902f9ae",
   "metadata": {},
   "outputs": [],
   "source": [
    "import pandas as pd\n",
    "import numpy as np\n",
    "import statsmodels\n",
    "from scipy.stats import norm\n",
    "from datetime import datetime\n",
    "from dateutil.relativedelta import relativedelta\n",
    "import statsmodels.api as sm\n",
    "\n",
    "from bcb import sgs\n",
    "import yfinance as yf"
   ]
  },
  {
   "cell_type": "markdown",
   "id": "82403f5f",
   "metadata": {},
   "source": [
    "# Dados Iniciais para análise"
   ]
  },
  {
   "cell_type": "markdown",
   "id": "89d49ec6",
   "metadata": {},
   "source": [
    "Importando arquivo das ações"
   ]
  },
  {
   "cell_type": "code",
   "execution_count": null,
   "id": "4b3efbf7",
   "metadata": {},
   "outputs": [],
   "source": [
    "# Varíaveis de data que permite, que o código tenha series temporais fluídas e que se atualizam sempre que o código é rodado\n",
    "agora = datetime.now()\n",
    "date5y = agora - relativedelta(years=5)\n",
    "\n",
    "agora = agora.strftime(\"%Y-%m-%d\")\n",
    "date5y = date5y.strftime(\"%Y-%m-%d\")\n",
    "\n",
    "\n",
    "#Açoes usadas como exemplo para testar a testar o código para as fórmulas de análise de risco\n",
    "a1 = yf.Ticker(\"PETR4.SA\").history(start=date5y,end=agora)\n",
    "a2 = yf.Ticker(\"JBSS3.SA\").history(start=date5y,end=agora)\n",
    "a3 = yf.Ticker(\"BBAS3.SA\").history(start=date5y,end=agora)\n",
    "a4 = yf.Ticker(\"VIVT3.SA\").history(start=date5y,end=agora)\n",
    "a5 = yf.Ticker(\"ITUB4.SA\").history(start=date5y,end=agora)\n",
    "\n",
    "listaAcoes = [a1,a2,a3,a4,a5]"
   ]
  },
  {
   "cell_type": "markdown",
   "id": "7650a977",
   "metadata": {},
   "source": [
    "Variáveis Básicas"
   ]
  },
  {
   "cell_type": "code",
   "execution_count": 4,
   "id": "2aa381ff",
   "metadata": {},
   "outputs": [],
   "source": [
    "#retornos logarítmicos diários\n",
    "lRetD = []\n",
    "#variância dos retornos logarítmicos diários\n",
    "lVarc = []\n",
    "for i0 in listaAcoes:\n",
    "    close_prices = i0['Close']\n",
    "    returns = np.log(close_prices / close_prices.shift(1)).dropna()\n",
    "    \n",
    "    lRetD.append(returns)\n",
    "    lVarc.append(np.var(returns))\n",
    "\n",
    "#z1 é para um nível de confiança de 95% (Primeira análise)\n",
    "a1 = 0.95\n",
    "z1 = norm.ppf(a1)\n",
    "dz1 = norm.pdf(z1)\n",
    "\n",
    "#z2 é para um nível de confiança de 99% (Segunda análise)\n",
    "a2 = 0.99\n",
    "z2 = norm.ppf(a2)\n",
    "dz2 = norm.pdf(z2)\n",
    "\n",
    "valInv = 1000000\n",
    "lPorc = [0.2,0.2,0.20,0.20,0.20]\n",
    "lInv = []\n",
    "for i1 in lPorc:\n",
    "    lInv.append(i1*valInv)"
   ]
  },
  {
   "cell_type": "markdown",
   "id": "1b22d21c",
   "metadata": {},
   "source": [
    "# 1) Análise Individual dos Investimentos"
   ]
  },
  {
   "cell_type": "markdown",
   "id": "deccae15",
   "metadata": {},
   "source": [
    "## Volatilidade"
   ]
  },
  {
   "cell_type": "code",
   "execution_count": 49,
   "id": "89819fa6",
   "metadata": {},
   "outputs": [
    {
     "name": "stdout",
     "output_type": "stream",
     "text": [
      "Volatilidade das ações:\n",
      "Ação 0 -> 0.0206\n",
      "Ação 1 -> 0.0213\n",
      "Ação 2 -> 0.0162\n",
      "Ação 3 -> 0.0145\n",
      "Ação 4 -> 0.0142\n"
     ]
    }
   ],
   "source": [
    "#quanto menor a volatilidade, menor é a oscilação do ativo\n",
    "lDP = []\n",
    "for i2 in lVarc:\n",
    "    dp = np.sqrt(i2)\n",
    "    lDP.append(dp)\n",
    "\n",
    "print(\"Volatilidade das ações:\")\n",
    "for n0,i3 in enumerate(lDP):\n",
    "    print(f\"Ação {n0} -> {i3:.4f}\")"
   ]
  },
  {
   "cell_type": "markdown",
   "id": "cdf344a5",
   "metadata": {},
   "source": [
    "## Value at Risk (VaR)"
   ]
  },
  {
   "cell_type": "markdown",
   "id": "9a4855b0",
   "metadata": {},
   "source": [
    "valor limite de perdas"
   ]
  },
  {
   "cell_type": "markdown",
   "id": "1572eae2",
   "metadata": {},
   "source": [
    "- Para 95% de nível de confiança"
   ]
  },
  {
   "cell_type": "code",
   "execution_count": null,
   "id": "f94fe6a0",
   "metadata": {},
   "outputs": [
    {
     "name": "stdout",
     "output_type": "stream",
     "text": [
      "VaR (Para 95% de nível de confiança):\n",
      "Ação 0 -> perda máxima esperada de R$ 6807.88 (Inv inicial = R$ 200000.00)\n",
      "Ação 1 -> perda máxima esperada de R$ 7036.34 (Inv inicial = R$ 200000.00)\n",
      "Ação 2 -> perda máxima esperada de R$ 5350.33 (Inv inicial = R$ 200000.00)\n",
      "Ação 3 -> perda máxima esperada de R$ 4787.54 (Inv inicial = R$ 200000.00)\n",
      "Ação 4 -> perda máxima esperada de R$ 4697.51 (Inv inicial = R$ 200000.00)\n",
      "-=-=-=-=-=-=-=-=-=-=-=-=-=-=-=-=-=-=-=-=\n",
      "Perda máxima do fundo: R$ 28679.60\n"
     ]
    }
   ],
   "source": [
    "\n",
    "# a perda não ultrapassa o valor do VaR, a perda vai ser em 95% das vezes menor ou igual a esse valor \n",
    "# valor limite de perdas\n",
    "\n",
    "lVaR1 = []\n",
    "for n1,i4 in enumerate(lDP):\n",
    "    valAtR = z1*i4*lInv[n1]\n",
    "    lVaR1.append(valAtR)\n",
    "\n",
    "print(\"VaR (Para 95% de nível de confiança):\")\n",
    "for n2,i5 in enumerate(lVaR1):\n",
    "    print(f\"Ação {n2} -> perda máxima esperada de R$ {i5:.2f} (Inv inicial = R$ {lInv[n2]:.2f})\")\n",
    "print(\"-=\"*20)\n",
    "\n",
    "print(f\"Perda máxima do fundo: R$ {np.sum(lVaR1):.2f}\")"
   ]
  },
  {
   "cell_type": "markdown",
   "id": "0c46b6b2",
   "metadata": {},
   "source": [
    "- Para 99% de nível de confiança"
   ]
  },
  {
   "cell_type": "code",
   "execution_count": null,
   "id": "5bac0f92",
   "metadata": {},
   "outputs": [
    {
     "name": "stdout",
     "output_type": "stream",
     "text": [
      "VaR (Para 99% de nível de confiança):\n",
      "Ação 0 -> perda máxima esperada de R$9613.56 (Inv inicial = R$ 200000.00)\n",
      "Ação 1 -> perda máxima esperada de R$9936.16 (Inv inicial = R$ 200000.00)\n",
      "Ação 2 -> perda máxima esperada de R$7555.31 (Inv inicial = R$ 200000.00)\n",
      "Ação 3 -> perda máxima esperada de R$6760.58 (Inv inicial = R$ 200000.00)\n",
      "Ação 4 -> perda máxima esperada de R$6633.46 (Inv inicial = R$ 200000.00)\n",
      "-=-=-=-=-=-=-=-=-=-=-=-=-=-=-=-=-=-=-=-=\n",
      "Perda máxima esperada do fundo: R$ 40499.07\n"
     ]
    }
   ],
   "source": [
    "# a perda não ultrapassa o valor do VaR, a perda vai ser em 99% das vezes menor ou igual a esse valor (cenário de incerteza)\n",
    "\n",
    "lVaR2 = []\n",
    "for n3,i6 in enumerate(lDP):\n",
    "    valAtR = z2*i6*lInv[n3]\n",
    "    lVaR2.append(valAtR)\n",
    "\n",
    "print(\"VaR (Para 99% de nível de confiança):\")\n",
    "for n4,i7 in enumerate(lVaR2):\n",
    "    print(f\"Ação {n4} -> perda máxima esperada de R${i7:.2f} (Inv inicial = R$ {lInv[n4]:.2f})\")\n",
    "print(\"-=\"*20)\n",
    "\n",
    "print(f\"Perda máxima esperada do fundo: R$ {np.sum(lVaR2):.2f}\")"
   ]
  },
  {
   "cell_type": "markdown",
   "id": "97b190f3",
   "metadata": {},
   "source": [
    "## Conditional Value at Risk (CVaR)"
   ]
  },
  {
   "cell_type": "markdown",
   "id": "24c5b6df",
   "metadata": {},
   "source": [
    "valores da cauda de distribuição de perdas em cenários de perda extrema (tende a ser maior do que o VaR)\n"
   ]
  },
  {
   "cell_type": "markdown",
   "id": "d8c82370",
   "metadata": {},
   "source": [
    "- Para 95% de confiança"
   ]
  },
  {
   "cell_type": "code",
   "execution_count": 52,
   "id": "2b74d789",
   "metadata": {},
   "outputs": [
    {
     "name": "stdout",
     "output_type": "stream",
     "text": [
      "CVaR (Para 95% de nível de confiança):\n",
      "Ação 0 -> pior média de perdas esperada de R$ 13924.18 (VaR = R$ 6807.88)\n",
      "Ação 1 -> pior média de perdas esperada de R$ 14391.43 (VaR = R$ 7036.34)\n",
      "Ação 2 -> pior média de perdas esperada de R$ 10943.03 (VaR = R$ 5350.33)\n",
      "Ação 3 -> pior média de perdas esperada de R$ 9791.96 (VaR = R$ 4787.54)\n",
      "Ação 4 -> pior média de perdas esperada de R$ 9607.83 (VaR = R$ 4697.51)\n",
      "-=-=-=-=-=-=-=-=-=-=-=-=-=-=-=-=-=-=-=-=\n",
      "Pior média de perdas do fundo esperado: R$ 58658.43\n"
     ]
    }
   ],
   "source": [
    "# média das perdas que ocorrem nos 5% piores cenários \n",
    "\n",
    "lCVaR1 = []\n",
    "for t0,i8 in zip(lVaR1,lDP):\n",
    "    cvar = i8 + (t0*dz1/(1-a1))\n",
    "    lCVaR1.append(cvar)\n",
    "\n",
    "print(\"CVaR (Para 95% de nível de confiança):\")\n",
    "for n4, i9 in enumerate(lCVaR1):\n",
    "    print(f\"Ação {n4} -> pior média de perdas esperada de R$ {i9:.2f} (VaR = R$ {lVaR1[n4]:.2f})\")\n",
    "print(\"-=\"*20)\n",
    "\n",
    "print(f\"Pior média de perdas do fundo esperado: R$ {np.sum(lCVaR1):.2f}\")\n",
    "    "
   ]
  },
  {
   "cell_type": "markdown",
   "id": "348dfdc4",
   "metadata": {},
   "source": [
    "- Para 99% de confiança"
   ]
  },
  {
   "cell_type": "code",
   "execution_count": 53,
   "id": "bac1390f",
   "metadata": {},
   "outputs": [
    {
     "name": "stdout",
     "output_type": "stream",
     "text": [
      "VaR (Para 99% de nível de confiança):\n",
      "Ação 0 -> pior média de perdas de R$ 9613.61 (VaR = R$ 9613.56)\n",
      "Ação 1 -> pior média de perdas de R$ 9936.22 (VaR = R$ 9936.16)\n",
      "Ação 2 -> pior média de perdas de R$ 7555.35 (VaR = R$ 7555.31)\n",
      "Ação 3 -> pior média de perdas de R$ 6760.62 (VaR = R$ 6760.58)\n",
      "Ação 4 -> pior média de perdas de R$ 6633.50 (VaR = R$ 6633.46)\n",
      "-=-=-=-=-=-=-=-=-=-=-=-=-=-=-=-=-=-=-=-=\n",
      "Pior média de perdas do fundo: R$ 40499.30\n"
     ]
    }
   ],
   "source": [
    "# média das perdas que ocorrem nos 1% piores cenários\n",
    "\n",
    "lCVaR2 = []\n",
    "for i10,t1 in zip(lVaR2,lDP):\n",
    "    cvar = i10 + (t1*dz2/(1-a2))\n",
    "    lCVaR2.append(cvar)\n",
    "\n",
    "print(\"VaR (Para 99% de nível de confiança):\")\n",
    "for n5,i11 in enumerate(lCVaR2):\n",
    "    print(f\"Ação {n5} -> pior média de perdas de R$ {i11:.2f} (VaR = R$ {lVaR2[n5]:.2f})\")\n",
    "print(\"-=\"*20)\n",
    "\n",
    "print(f\"Pior média de perdas do fundo: R$ {np.sum(lCVaR2):.2f}\")"
   ]
  },
  {
   "cell_type": "markdown",
   "id": "07372f1d",
   "metadata": {},
   "source": [
    "# 2) Análise Comparativa"
   ]
  },
  {
   "cell_type": "markdown",
   "id": "f7658ade",
   "metadata": {},
   "source": [
    "## Indice de Sharpe"
   ]
  },
  {
   "cell_type": "markdown",
   "id": "039f3665",
   "metadata": {},
   "source": [
    "- menor que 0 = Retorno abaixo da tx livre de risco (mau desempenho ajustado ao risco)\n",
    "- 0 a 1: Retorno baixo em relação ao risco\n",
    "- 1 a 1.99: Bom (retorno razoável para o rísco assumido)\n",
    "- 2 a 2.99: Muit Bom (portfólio eficiente)\n",
    "- maior ou igual a 3: Excelente (alto retorno com risco controlado)"
   ]
  },
  {
   "cell_type": "code",
   "execution_count": 130,
   "id": "da21b67f",
   "metadata": {},
   "outputs": [
    {
     "name": "stdout",
     "output_type": "stream",
     "text": [
      "                             Acao 0    Acao 1    Acao 2    Acao 3    Acao 4\n",
      "Date                                                                       \n",
      "2020-05-25 00:00:00-03:00  0.042470  0.006276  0.099733  0.018188  0.042633\n",
      "2020-05-26 00:00:00-03:00  0.009706 -0.005308 -0.022797  0.008458 -0.040457\n",
      "2020-05-27 00:00:00-03:00  0.013131  0.051390  0.003566 -0.002262  0.030811\n",
      "2020-05-28 00:00:00-03:00 -0.008060  0.010969 -0.003566 -0.010972 -0.017858\n",
      "2020-05-29 00:00:00-03:00  0.028424 -0.001365  0.001623 -0.005875 -0.011650\n",
      "...                             ...       ...       ...       ...       ...\n",
      "2025-05-15 00:00:00-03:00 -0.001254 -0.004330 -0.012171 -0.008842  0.013358\n",
      "2025-05-16 00:00:00-03:00  0.004696 -0.007172 -0.135672 -0.012152  0.005822\n",
      "2025-05-19 00:00:00-03:00 -0.001250  0.030133 -0.024848 -0.005408  0.011803\n",
      "2025-05-20 00:00:00-03:00  0.004057  0.046781  0.018204  0.002167 -0.001305\n",
      "2025-05-21 00:00:00-03:00 -0.011275  0.001665 -0.009456 -0.007605 -0.020309\n",
      "\n",
      "[1242 rows x 5 columns]\n",
      "Índice de Sharpe do portfólio: 0.0214\n"
     ]
    }
   ],
   "source": [
    "acoesRD = pd.concat([pd.Series(serie, name=f'Acao {i}') for i, serie in enumerate(lRetD)], axis=1)\n",
    "print(acoesRD)\n",
    "\n",
    "pesos = np.array(lPorc)\n",
    "matrixCov = acoesRD.cov()\n",
    "volPortf = np.sqrt(np.dot(pesos.T, np.dot(matrixCov, pesos)))\n",
    "\n",
    "cdiAnual = sgs.get(1178,last=1)\n",
    "cdiAnual = (cdiAnual.iloc[0,0])/100\n",
    "\n",
    "cdiDia = (1 + cdiAnual)**(1/252) - 1\n",
    "\n",
    "mediaRetDia = np.dot(acoesRD.mean(), pesos)\n",
    "\n",
    "sharpeF =  (mediaRetDia - cdiDia)/ volPortf\n",
    "print(f\"Índice de Sharpe do portfólio: {sharpeF:.4f}\")"
   ]
  },
  {
   "cell_type": "markdown",
   "id": "d8bc9e2b",
   "metadata": {},
   "source": [
    "## Beta e Alpha do fundo"
   ]
  },
  {
   "cell_type": "markdown",
   "id": "50f3d190",
   "metadata": {},
   "source": [
    "- está sendo usado o Ibovespa como benchmark"
   ]
  },
  {
   "cell_type": "markdown",
   "id": "6a62226d",
   "metadata": {},
   "source": [
    "- Alpha > 0: portfólio está gerando retorno acima do esperado pelo CAPM\n",
    "- Alpha < 0: portfólio está gerando retorno abaixo do esperado pelo CAPM"
   ]
  },
  {
   "cell_type": "markdown",
   "id": "ceca14ac",
   "metadata": {},
   "source": [
    "O beta é a proporção que o fundo se movimenta com o benckmark\n",
    "\n",
    "- Beta < 0: Inversamente correlacionado (o fundo anda no sentido oposto ao mercado)\n",
    "- Beta = 0: Independente do mercado (o fundo não se movimenta com o mercado)\n",
    "- Beta entre 0 e 1: Menos volátil que o mercado (defensivo, segue o mercado com menos intensidade)\n",
    "- Beta = 1: Neutro ao mercado (o fundo sobe ou cai na mesma proporção do benchmark)\n",
    "- Beta > 1: Mais volátil que o mercado (agressivo, amplifica os movimentos do mercado)"
   ]
  },
  {
   "cell_type": "code",
   "execution_count": 139,
   "id": "4e17566e",
   "metadata": {},
   "outputs": [
    {
     "name": "stdout",
     "output_type": "stream",
     "text": [
      "<statsmodels.regression.linear_model.RegressionResultsWrapper object at 0x000001EBAA385D30>\n",
      "-=-=-=-=-=-=-=-=-=-=-=-=-=-=-=-=-=-=-=-=\n",
      "Beta: 0.8554\n",
      "Alpha: 0.0005\n"
     ]
    }
   ],
   "source": [
    "retornoFundoDia = pd.Series(acoesRD.dot(pesos), index=acoesRD.index)\n",
    "\n",
    "ibov5y = yf.Ticker(\"^BVSP\").history(start=date5y,end=agora)\n",
    "ibov5y = ibov5y['Close']\n",
    "\n",
    "retIbovDia = np.log(ibov5y / ibov5y.shift(1)).dropna()\n",
    "medIbovDia = np.mean(retIbovDia)\n",
    "\n",
    "dfAcoesBt = pd.merge(retIbovDia.to_frame('ibov'), \n",
    "                     retornoFundoDia.to_frame('fundo'), \n",
    "                     left_index=True, right_index=True, \n",
    "                     how='inner')\n",
    "dfAcoesBt = dfAcoesBt.dropna()\n",
    "\n",
    "X = sm.add_constant(dfAcoesBt['ibov'])\n",
    "y = dfAcoesBt['fundo']\n",
    "\n",
    "modeloRL = sm.OLS(y, X).fit()\n",
    "print(modeloRL)\n",
    "\n",
    "beta = modeloRL.params['ibov']\n",
    "alpha = modeloRL.params['const']\n",
    "\n",
    "print(\"-=\"*20)\n",
    "print(f\"Beta: {beta:.4f}\")\n",
    "print(f\"Alpha: {alpha:.4f}\")\n",
    "\n"
   ]
  },
  {
   "cell_type": "markdown",
   "id": "da061561",
   "metadata": {},
   "source": [
    "## Indice de Treynor"
   ]
  },
  {
   "cell_type": "markdown",
   "id": "08626b71",
   "metadata": {},
   "source": [
    "- Positivo e alto = O fundo está entregando bom retorno ajustado ao risco de mercado (quanto maior, melhor)\n",
    "- Próximo de zero = O fundo não gera retorno além da taxa livre de risco, mesmo assumindo risco de mercado\n",
    "- Negativo = O fundo teve desempenho pior que a taxa livre de risco, mesmo assumindo risco (performance ruim)"
   ]
  },
  {
   "cell_type": "code",
   "execution_count": 138,
   "id": "b8f05f11",
   "metadata": {},
   "outputs": [
    {
     "name": "stdout",
     "output_type": "stream",
     "text": [
      "-=-=-=-=-=-=-=-=-=-=-=-=-=-=-=-=-=-=-=-=\n",
      "Índice de Treynor diário: 0.000457\n",
      "-=-=-=-=-=-=-=-=-=-=-=-=-=-=-=-=-=-=-=-=\n",
      "Índice de Treynor diário: 0.134197\n"
     ]
    }
   ],
   "source": [
    "print(\"-=\"*20)\n",
    "\n",
    "treynorD =  (mediaRetDia - medIbovDia)/beta\n",
    "print(f\"Índice de Treynor diário: {treynorD:.6f}\")\n",
    "\n",
    "retFundoAn = (1+mediaRetDia)**252 - 1\n",
    "medIbovAn = (1 + medIbovDia)**252 - 1\n",
    "treynorA = (retFundoAn - medIbovAn)/beta\n",
    "print(\"-=\"*20)\n",
    "print(f\"Índice de Treynor diário: {treynorA:.6f}\")"
   ]
  }
 ],
 "metadata": {
  "kernelspec": {
   "display_name": "Python 3",
   "language": "python",
   "name": "python3"
  },
  "language_info": {
   "codemirror_mode": {
    "name": "ipython",
    "version": 3
   },
   "file_extension": ".py",
   "mimetype": "text/x-python",
   "name": "python",
   "nbconvert_exporter": "python",
   "pygments_lexer": "ipython3",
   "version": "3.13.3"
  }
 },
 "nbformat": 4,
 "nbformat_minor": 5
}
